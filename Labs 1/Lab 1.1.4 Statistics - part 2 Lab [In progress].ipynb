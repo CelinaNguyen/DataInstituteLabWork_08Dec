{
 "cells": [
  {
   "cell_type": "markdown",
   "metadata": {
    "colab_type": "text",
    "id": "4M2unyfTx9B1"
   },
   "source": [
    "<div>\n",
    "<img src=https://www.institutedata.com/wp-content/uploads/2019/10/iod_h_tp_primary_c.svg width=\"300\">\n",
    "</div>"
   ]
  },
  {
   "cell_type": "markdown",
   "metadata": {
    "colab_type": "text",
    "id": "RqiJTWNJmxTh"
   },
   "source": [
    "# Statistics - part 2"
   ]
  },
  {
   "cell_type": "code",
   "execution_count": 32,
   "metadata": {
    "colab": {},
    "colab_type": "code",
    "id": "LMexHJ6rmxTh"
   },
   "outputs": [],
   "source": [
    "import numpy as np\n",
    "import matplotlib.pyplot as plt\n",
    "from scipy import stats\n",
    "# get matplot to show charts inline\n",
    "%matplotlib inline"
   ]
  },
  {
   "cell_type": "markdown",
   "metadata": {
    "colab_type": "text",
    "id": "77Yt7aCRpUKY"
   },
   "source": [
    "# 1. plot a histogram of a set of observations\n",
    "\n",
    "experiment with various number of bins"
   ]
  },
  {
   "cell_type": "code",
   "execution_count": 39,
   "metadata": {
    "colab": {},
    "colab_type": "code",
    "id": "7PY2pBe8mxTk"
   },
   "outputs": [
    {
     "data": {
      "text/plain": [
       "(array([10.,  7.,  2.,  1.,  1.]),\n",
       " array([  4. ,  23.2,  42.4,  61.6,  80.8, 100. ]),\n",
       " <a list of 5 Patch objects>)"
      ]
     },
     "execution_count": 39,
     "metadata": {},
     "output_type": "execute_result"
    },
    {
     "data": {
      "image/png": "[encoded data removed]",
      "text/plain": [
       "<Figure size 432x288 with 1 Axes>"
      ]
     },
     "metadata": {
      "needs_background": "light"
     },
     "output_type": "display_data"
    }
   ],
   "source": [
    "# plot a histogram of a set of observations\n",
    "# experiment with various number of bins\n",
    "x = [21,22,23,4,5,6,77,8,9,10,31,32,33,34,35,36,37,18,49,50,100]\n",
    "num_bins = 5\n",
    "\n",
    "plt.hist(x, bins=5, histtype='bar')"
   ]
  },
  {
   "cell_type": "markdown",
   "metadata": {
    "colab_type": "text",
    "id": "cRSBy51CpgbC"
   },
   "source": [
    "# 2. Calculate statistical information of a set of observations using numpy and stats\n",
    "```\n",
    "# Expected Output:\n",
    "mean of observations = 28.884615384615383\n",
    "median of observations = 27.0\n",
    "mode of observations = ModeResult(mode=array([10]), count=array([4]))\n",
    "percentile of observations = [10.   27.   35.75]\n",
    "statistical summary of observations = DescribeResult(nobs=26, minmax=(4, 100), mean=28.884615384615383, variance=523.3061538461537, skewness=1.4001632366778733, kurtosis=2.0634808152807826)\n",
    "```"
   ]
  },
  {
   "cell_type": "code",
   "execution_count": 69,
   "metadata": {
    "colab": {},
    "colab_type": "code",
    "id": "odB27dRAmxTn"
   },
   "outputs": [
    {
     "name": "stdout",
     "output_type": "stream",
     "text": [
      "mean of observations = 28.884615384615383\n",
      "median of observations = 27.0\n",
      "mode of observations = ModeResult(mode=array([10]), count=array([4]))\n",
      "percentile of observations = [10.   27.   35.75]\n",
      "statistical summary of observations = DescribeResult(nobs=26, minmax=(4, 100), mean=28.884615384615383, variance=523.3061538461537, skewness=1.4001632366778733, kurtosis=2.0634808152807826)\n"
     ]
    }
   ],
   "source": [
    "# calculate statistical information of a set of observations using numpy and stats\n",
    "observations = [21,22,23,4,5,6,77,8,9,10,31,32,33,34,35,36,37,18,49,50,100,10,32,49,10,10]\n",
    "\n",
    "print(f\"mean of observations = {np.mean(observations)}\")\n",
    "print(f\"median of observations = {np.median(observations)}\")\n",
    "print(f\"mode of observations = {stats.mode(observations)}\")\n",
    "print(f\"percentile of observations = {np.percentile(observations, [20, 50, 75])}\")\n",
    "print(f\"statistical summary of observations = {stats.describe(observations)}\")"
   ]
  },
  {
   "cell_type": "markdown",
   "metadata": {
    "colab_type": "text",
    "id": "AGpwG3Mup0iD"
   },
   "source": [
    "# 3. Plot box chart of obstravations"
   ]
  },
  {
   "cell_type": "code",
   "execution_count": 4,
   "metadata": {
    "colab": {},
    "colab_type": "code",
    "id": "JMIEInnMmxTq"
   },
   "outputs": [],
   "source": [
    "# plot box chart of obstravations\n",
    "observations = [21,22,23,4,5,6,77,8,9,10,31,32,33,34,35,36,37,18,49,50,100,10,32,49,10,10]\n",
    "\n"
   ]
  },
  {
   "cell_type": "markdown",
   "metadata": {
    "colab_type": "text",
    "id": "LcviDI1CqBtM"
   },
   "source": [
    "# 4. Create a Binomial Distribution\n",
    "\n",
    "Lookup stats.binom.pmf\n",
    "\n",
    "What does it do?"
   ]
  },
  {
   "cell_type": "code",
   "execution_count": 70,
   "metadata": {
    "colab": {
     "base_uri": "https://localhost:8080/",
     "height": 367
    },
    "colab_type": "code",
    "executionInfo": {
     "elapsed": 789,
     "status": "ok",
     "timestamp": 1552700227788,
     "user": {
      "displayName": "Ibrahim Faisal",
      "photoUrl": "",
      "userId": "02685917636347920688"
     },
     "user_tz": -660
    },
    "id": "9aQ57ncDJReH",
    "outputId": "986b17b8-e2ff-4d91-f456-0b40c39dea4e"
   },
   "outputs": [
    {
     "name": "stdout",
     "output_type": "stream",
     "text": [
      "Help on method pmf in module scipy.stats._distn_infrastructure:\n",
      "\n",
      "pmf(k, *args, **kwds) method of scipy.stats._discrete_distns.binom_gen instance\n",
      "    Probability mass function at k of the given RV.\n",
      "    \n",
      "    Parameters\n",
      "    ----------\n",
      "    k : array_like\n",
      "        Quantiles.\n",
      "    arg1, arg2, arg3,... : array_like\n",
      "        The shape parameter(s) for the distribution (see docstring of the\n",
      "        instance object for more information)\n",
      "    loc : array_like, optional\n",
      "        Location parameter (default=0).\n",
      "    \n",
      "    Returns\n",
      "    -------\n",
      "    pmf : array_like\n",
      "        Probability mass function evaluated at k\n",
      "\n"
     ]
    }
   ],
   "source": [
    "help(stats.binom.pmf)"
   ]
  },
  {
   "cell_type": "code",
   "execution_count": 73,
   "metadata": {
    "colab": {
     "base_uri": "https://localhost:8080/",
     "height": 352
    },
    "colab_type": "code",
    "executionInfo": {
     "elapsed": 1446,
     "status": "ok",
     "timestamp": 1552703611710,
     "user": {
      "displayName": "Ibrahim Faisal",
      "photoUrl": "",
      "userId": "02685917636347920688"
     },
     "user_tz": -660
    },
    "id": "_vJoZMf2mxTs",
    "outputId": "0e05757d-5262-4151-8a3a-8ab401031fdf"
   },
   "outputs": [
    {
     "name": "stdout",
     "output_type": "stream",
     "text": [
      "[ 0  1  2  3  4  5  6  7  8  9 10 11 12 13 14 15 16 17 18 19]\n",
      "[0.00097656 0.00976563 0.04394531 0.1171875  0.20507813 0.24609375\n",
      " 0.20507813 0.1171875  0.04394531 0.00976563 0.00097656 0.\n",
      " 0.         0.         0.         0.         0.         0.\n",
      " 0.         0.        ]\n"
     ]
    },
    {
     "data": {
      "image/png": "[encoded data removed]",
      "text/plain": [
       "<Figure size 432x288 with 1 Axes>"
      ]
     },
     "metadata": {
      "needs_background": "light"
     },
     "output_type": "display_data"
    }
   ],
   "source": [
    "# creating a Binomial Distribution\n",
    "n = 10\n",
    "p = 0.5\n",
    "k = np.arange(0,20)\n",
    "\n",
    "print(k)\n",
    "\n",
    "binomial = stats.binom.pmf(k, n, p)\n",
    "\n",
    "print(binomial)\n",
    "\n",
    "plt.plot(binomial);"
   ]
  },
  {
   "cell_type": "markdown",
   "metadata": {
    "colab_type": "text",
    "id": "HlhkB_IcqU4U"
   },
   "source": [
    "# 5. Create a scatter plot"
   ]
  },
  {
   "cell_type": "code",
   "execution_count": 84,
   "metadata": {
    "colab": {},
    "colab_type": "code",
    "id": "-qx81cWXmxTu"
   },
   "outputs": [
    {
     "data": {
      "text/plain": [
       "<matplotlib.collections.PathCollection at 0x1ed4f510f10>"
      ]
     },
     "execution_count": 84,
     "metadata": {},
     "output_type": "execute_result"
    },
    {
     "data": {
      "image/png": "[encoded data removed]",
      "text/plain": [
       "<Figure size 432x288 with 1 Axes>"
      ]
     },
     "metadata": {
      "needs_background": "light"
     },
     "output_type": "display_data"
    }
   ],
   "source": [
    "import numpy as np\n",
    "import matplotlib.pyplot as plt\n",
    "\n",
    "# Fixing random state for reproducibility\n",
    "np.random.seed(19680801)\n",
    "\n",
    "\n",
    "N = 50\n",
    "x = np.random.rand(N)\n",
    "y = np.random.rand(N)\n",
    "colors = np.random.rand(N)\n",
    "area = (30 * np.random.rand(N))**2  # 0 to 15 point radii\n",
    "\n",
    "plt.scatter(x, y, s=area, cmap='rainbow', c=np.arctan2(x, y))"
   ]
  },
  {
   "cell_type": "markdown",
   "metadata": {
    "colab_type": "text",
    "id": "_KQAJyqIqheV"
   },
   "source": [
    "# 6. Calculate and Visualize Correlations\n",
    "\n",
    "NOTE: Lookup np.corrcoef. What does it do?"
   ]
  },
  {
   "cell_type": "code",
   "execution_count": 107,
   "metadata": {
    "colab": {},
    "colab_type": "code",
    "id": "5K4lfLpTmxTw"
   },
   "outputs": [
    {
     "data": {
      "text/plain": [
       "array([[1.        , 0.81543901],\n",
       "       [0.81543901, 1.        ]])"
      ]
     },
     "execution_count": 107,
     "metadata": {},
     "output_type": "execute_result"
    }
   ],
   "source": [
    "# Calculate and visualise correltions\n",
    "import matplotlib\n",
    "np.random.seed(1)\n",
    "\n",
    "# 1000 random integers between 0 and 50\n",
    "x = np.random.randint(0, 50, 1000)\n",
    "\n",
    "# Positive Correlation with some noise\n",
    "y = x + np.random.normal(0, 10, 1000)\n",
    "\n",
    "np.corrcoef(x, y)\n"
   ]
  },
  {
   "cell_type": "code",
   "execution_count": 110,
   "metadata": {
    "colab": {
     "base_uri": "https://localhost:8080/",
     "height": 34
    },
    "colab_type": "code",
    "executionInfo": {
     "elapsed": 744,
     "status": "ok",
     "timestamp": 1552692286593,
     "user": {
      "displayName": "Ibrahim Faisal",
      "photoUrl": "",
      "userId": "02685917636347920688"
     },
     "user_tz": -660
    },
    "id": "5EPfgBdDmxTz",
    "outputId": "11f783b4-0a0f-4904-9bc2-b1a6d6e5e56e"
   },
   "outputs": [
    {
     "name": "stdout",
     "output_type": "stream",
     "text": [
      "[ 3.45190097e-04 -6.80026180e-02  3.49295079e+00 -5.95653828e+00]\n"
     ]
    },
    {
     "data": {
      "text/plain": [
       "array([[1.        , 0.09850893],\n",
       "       [0.09850893, 1.        ]])"
      ]
     },
     "execution_count": 110,
     "metadata": {},
     "output_type": "execute_result"
    }
   ],
   "source": [
    "# Calculate the coefficient of best fit line or curve\n",
    "x = [21,22,23,4,5,6,77,8,9,10,31,32,33,34,35,36,37,18,49,50,100,10,32,49,10,10]\n",
    "y = [88,12,23,3,6,8,9,12,27,36,34,77,60,35,36,37,18,49,50,100,10,32,49,10,10,22]\n",
    "\n",
    "print(np.polyfit(x,y,3))\n",
    "\n",
    "#help(np.corrcoef)\n",
    "\n",
    "np.corrcoef(x, y, rowvar=True)"
   ]
  },
  {
   "cell_type": "markdown",
   "metadata": {
    "colab_type": "text",
    "id": "c6f0e9yXra37"
   },
   "source": [
    "# 7. [BONUS] Plot X, Y and Best Fit Line\n",
    "\n",
    "**Write a function to calculate best fit.**\n",
    "\n",
    "![alt text](https://i.imgur.com/B43vOV0.jpg)[1]\n",
    "\n",
    "[1]: https://www.mathsisfun.com/data/least-squares-regression.html \"Least Squares Regression\""
   ]
  },
  {
   "cell_type": "code",
   "execution_count": 195,
   "metadata": {
    "colab": {},
    "colab_type": "code",
    "id": "-jouTQjemxT1"
   },
   "outputs": [
    {
     "ename": "TypeError",
     "evalue": "'int' object is not callable",
     "output_type": "error",
     "traceback": [
      "\u001b[1;31m---------------------------------------------------------------------------\u001b[0m",
      "\u001b[1;31mTypeError\u001b[0m                                 Traceback (most recent call last)",
      "\u001b[1;32m<ipython-input-195-e945a556445e>\u001b[0m in \u001b[0;36m<module>\u001b[1;34m\u001b[0m\n\u001b[0;32m     12\u001b[0m \u001b[1;33m\u001b[0m\u001b[0m\n\u001b[0;32m     13\u001b[0m \u001b[1;31m# solution\u001b[0m\u001b[1;33m\u001b[0m\u001b[1;33m\u001b[0m\u001b[1;33m\u001b[0m\u001b[0m\n\u001b[1;32m---> 14\u001b[1;33m \u001b[0mm\u001b[0m\u001b[1;33m,\u001b[0m \u001b[0mb\u001b[0m \u001b[1;33m=\u001b[0m \u001b[0mbest_fit\u001b[0m\u001b[1;33m(\u001b[0m\u001b[0mX\u001b[0m\u001b[1;33m,\u001b[0m \u001b[0mY\u001b[0m\u001b[1;33m)\u001b[0m\u001b[1;33m\u001b[0m\u001b[1;33m\u001b[0m\u001b[0m\n\u001b[0m\u001b[0;32m     15\u001b[0m \u001b[1;31m#best fit line:\u001b[0m\u001b[1;33m\u001b[0m\u001b[1;33m\u001b[0m\u001b[1;33m\u001b[0m\u001b[0m\n\u001b[0;32m     16\u001b[0m \u001b[1;31m#y = 0.80 + 0.92x\u001b[0m\u001b[1;33m\u001b[0m\u001b[1;33m\u001b[0m\u001b[1;33m\u001b[0m\u001b[0m\n",
      "\u001b[1;32m<ipython-input-195-e945a556445e>\u001b[0m in \u001b[0;36mbest_fit\u001b[1;34m(X, Y)\u001b[0m\n\u001b[0;32m      7\u001b[0m    \u001b[0msum_x\u001b[0m \u001b[1;33m=\u001b[0m \u001b[0msum\u001b[0m\u001b[1;33m(\u001b[0m\u001b[0mX\u001b[0m\u001b[1;33m)\u001b[0m\u001b[1;33m\u001b[0m\u001b[1;33m\u001b[0m\u001b[0m\n\u001b[0;32m      8\u001b[0m    \u001b[0msum_y\u001b[0m \u001b[1;33m=\u001b[0m \u001b[0msum\u001b[0m\u001b[1;33m(\u001b[0m\u001b[0mY\u001b[0m\u001b[1;33m)\u001b[0m\u001b[1;33m\u001b[0m\u001b[1;33m\u001b[0m\u001b[0m\n\u001b[1;32m----> 9\u001b[1;33m    \u001b[0mm\u001b[0m \u001b[1;33m=\u001b[0m \u001b[0mN\u001b[0m\u001b[1;33m(\u001b[0m\u001b[0msum\u001b[0m\u001b[1;33m(\u001b[0m\u001b[0mY\u001b[0m\u001b[1;33m)\u001b[0m \u001b[1;33m-\u001b[0m \u001b[1;33m(\u001b[0m\u001b[0msum_x\u001b[0m \u001b[1;33m*\u001b[0m \u001b[0msum_y\u001b[0m\u001b[1;33m)\u001b[0m\u001b[1;33m)\u001b[0m \u001b[1;33m/\u001b[0m \u001b[0mN\u001b[0m\u001b[1;33m(\u001b[0m\u001b[0msum\u001b[0m\u001b[1;33m(\u001b[0m\u001b[0mX\u001b[0m\u001b[1;33m**\u001b[0m\u001b[1;36m2\u001b[0m\u001b[1;33m)\u001b[0m \u001b[1;33m-\u001b[0m \u001b[1;33m(\u001b[0m\u001b[0msum\u001b[0m\u001b[1;33m(\u001b[0m\u001b[0mX\u001b[0m\u001b[1;33m)\u001b[0m \u001b[1;33m**\u001b[0m \u001b[1;36m2\u001b[0m\u001b[1;33m)\u001b[0m\u001b[1;33m)\u001b[0m\u001b[1;33m\u001b[0m\u001b[1;33m\u001b[0m\u001b[0m\n\u001b[0m\u001b[0;32m     10\u001b[0m    \u001b[0mb\u001b[0m \u001b[1;33m=\u001b[0m \u001b[0msum_y\u001b[0m \u001b[1;33m-\u001b[0m \u001b[1;33m(\u001b[0m\u001b[0mm\u001b[0m\u001b[1;33m*\u001b[0m\u001b[0msum_x\u001b[0m\u001b[1;33m)\u001b[0m \u001b[1;33m/\u001b[0m\u001b[0mN\u001b[0m\u001b[1;33m\u001b[0m\u001b[1;33m\u001b[0m\u001b[0m\n\u001b[0;32m     11\u001b[0m    \u001b[1;32mreturn\u001b[0m \u001b[0mm\u001b[0m\u001b[1;33m,\u001b[0m \u001b[0mb\u001b[0m\u001b[1;33m\u001b[0m\u001b[1;33m\u001b[0m\u001b[0m\n",
      "\u001b[1;31mTypeError\u001b[0m: 'int' object is not callable"
     ]
    }
   ],
   "source": [
    "# sample points \n",
    "X = [0, 5, 10, 15, 20]\n",
    "Y = [0, 7, 10, 13, 20]\n",
    "\n",
    "# solve for a and b\n",
    "def best_fit(X, Y):\n",
    "   sum_x = sum(X)\n",
    "   sum_y = sum(Y)\n",
    "   m = N(sum(Y) - (sum_x * sum_y)) / N(sum(X**2) - (sum(X) ** 2))\n",
    "   b = sum_y - (m*sum_x) /N\n",
    "   return m, b\n",
    "\n",
    "# solution\n",
    "m, b = best_fit(X, Y)\n",
    "#best fit line:\n",
    "#y = 0.80 + 0.92x\n",
    "\n",
    "# plot points and fit line"
   ]
  },
  {
   "cell_type": "markdown",
   "metadata": {
    "colab_type": "text",
    "id": "HfL9jnC4txJH"
   },
   "source": [
    "# 8. plot a histogram of a set of observations - centered\n",
    "\n",
    "Experiment with various number of bins\n",
    "\n",
    "        y = x - np.mean(x)"
   ]
  },
  {
   "cell_type": "code",
   "execution_count": 127,
   "metadata": {
    "colab": {},
    "colab_type": "code",
    "id": "bw-YGxBEmxT5"
   },
   "outputs": [
    {
     "data": {
      "text/plain": [
       "(array([[0., 0., 6., 4., 6., 2., 1., 0., 1., 1.],\n",
       "        [6., 4., 7., 2., 0., 1., 0., 1., 0., 0.]]),\n",
       " array([-26.47619048, -13.82857143,  -1.18095238,  11.46666667,\n",
       "         24.11428571,  36.76190476,  49.40952381,  62.05714286,\n",
       "         74.7047619 ,  87.35238095, 100.        ]),\n",
       " <a list of 2 Lists of Patches objects>)"
      ]
     },
     "execution_count": 127,
     "metadata": {},
     "output_type": "execute_result"
    },
    {
     "data": {
      "image/png": "[encoded data removed]",
      "text/plain": [
       "<Figure size 432x288 with 1 Axes>"
      ]
     },
     "metadata": {
      "needs_background": "light"
     },
     "output_type": "display_data"
    }
   ],
   "source": [
    "# plot a histogram of a set of observations - centered\n",
    "# experiment with various number of bins\n",
    "x = [21,22,23,4,5,6,77,8,9,10,31,32,33,34,35,36,37,18,49,50,100]\n",
    "y = x - np.mean(x)\n",
    "\n",
    "plt.hist([x, y])"
   ]
  },
  {
   "cell_type": "markdown",
   "metadata": {
    "colab_type": "text",
    "id": "IvLbO4hot_oK"
   },
   "source": [
    "# 9. plot a histogram of a set of observations - scaled\n",
    "\n",
    "        y = x / np.std(x)"
   ]
  },
  {
   "cell_type": "code",
   "execution_count": 128,
   "metadata": {
    "colab": {},
    "colab_type": "code",
    "id": "rKkxbfpGmxT7"
   },
   "outputs": [
    {
     "data": {
      "text/plain": [
       "(array([[ 6.,  1.,  3.,  7.,  2.,  0.,  0.,  1.,  0.,  1.],\n",
       "        [21.,  0.,  0.,  0.,  0.,  0.,  0.,  0.,  0.,  0.]]),\n",
       " array([  0.17059574,  10.15353617,  20.1364766 ,  30.11941702,\n",
       "         40.10235745,  50.08529787,  60.0682383 ,  70.05117872,\n",
       "         80.03411915,  90.01705957, 100.        ]),\n",
       " <a list of 2 Lists of Patches objects>)"
      ]
     },
     "execution_count": 128,
     "metadata": {},
     "output_type": "execute_result"
    },
    {
     "data": {
      "image/png": "[encoded data removed]",
      "text/plain": [
       "<Figure size 432x288 with 1 Axes>"
      ]
     },
     "metadata": {
      "needs_background": "light"
     },
     "output_type": "display_data"
    }
   ],
   "source": [
    "# plot a histogram of a set of observations - scaled\n",
    "# experiment with various number of bins\n",
    "x = [21,22,23,4,5,6,77,8,9,10,31,32,33,34,35,36,37,18,49,50,100]\n",
    "y = x / np.std(x)\n",
    "\n",
    "plt.hist([x, y])"
   ]
  },
  {
   "cell_type": "markdown",
   "metadata": {
    "colab_type": "text",
    "id": "WhM8Zio5uQ65"
   },
   "source": [
    "# 10. [BONUS] Create a probplot against normal distribution\n",
    "\n",
    "Check following methods:\n",
    "\n",
    "1. stats.loggamma.rvs\n",
    "2. stats.probplot\n",
    "3. stats.norm\n",
    "4. stats.boxcox"
   ]
  },
  {
   "cell_type": "code",
   "execution_count": 175,
   "metadata": {
    "colab": {
     "base_uri": "https://localhost:8080/",
     "height": 151
    },
    "colab_type": "code",
    "executionInfo": {
     "elapsed": 723,
     "status": "ok",
     "timestamp": 1552693315169,
     "user": {
      "displayName": "Ibrahim Faisal",
      "photoUrl": "",
      "userId": "02685917636347920688"
     },
     "user_tz": -660
    },
    "id": "2X4WJFBxmxT_",
    "outputId": "8c130b45-aba0-488e-e643-44b4f6d11577"
   },
   "outputs": [
    {
     "data": {
      "text/plain": [
       "(array([135.08435677, 126.50114402, 155.10193624, 136.68037661,\n",
       "        141.11945201, 120.16855746, 103.12115964, 140.66356288,\n",
       "        105.96340661, 148.26349548, 121.22364992, 145.77944246,\n",
       "        111.36389779, 123.94845865, 103.67456762, 137.62358509,\n",
       "         90.5873123 , 124.89258305, 136.9049107 , 119.33540647,\n",
       "        137.76761479, 149.8790903 , 158.44440086, 105.80974498,\n",
       "         99.97677511, 196.4323823 , 167.97217267, 147.34041216,\n",
       "        138.28519153, 140.46022455, 118.86594774, 169.36215578,\n",
       "        118.92954486, 103.09442524, 128.53215297,  96.42185153,\n",
       "        113.80071951, 103.00742997, 147.86905695, 169.47730822,\n",
       "        100.13859802, 161.3172569 , 147.1562437 , 130.06904386,\n",
       "        169.73968146,  72.19566861, 102.73716695, 128.80285096,\n",
       "         67.5448826 ,  95.88615558, 125.03849991, 173.95536259,\n",
       "        142.20598881, 170.18395656, 147.02295998, 131.79357449,\n",
       "        121.12477952, 134.89611959, 149.80428628, 149.57813185,\n",
       "        110.77030303, 147.49547895, 122.83231519, 141.35746147,\n",
       "        100.45901284, 144.06139448, 173.88782276, 119.3536401 ,\n",
       "        113.72516223,  76.37379042,  99.80914895, 111.82033691,\n",
       "        109.43650501, 124.06222697, 125.8606368 , 156.55275869,\n",
       "        101.21259523, 100.65919151, 172.31276567,  99.30358888,\n",
       "        110.45538594, 142.4698423 ,  92.44665781, 152.32776018,\n",
       "        131.03115879, 132.71091237, 136.6533331 , 156.52659777,\n",
       "        124.1011109 ,  98.36649677, 147.70966037, 177.43182769,\n",
       "        141.71896573, 137.52831413,  87.55300366, 171.97129166,\n",
       "        140.50482641,  82.39839188, 114.70130017, 170.81531851,\n",
       "        172.84527601, 120.33266083, 134.10950789, 135.51211227,\n",
       "        190.61738571, 136.82932738, 100.17521684, 123.54735672,\n",
       "        144.07464136, 142.15014007,  80.46919294,  77.47402367,\n",
       "        136.82547891, 145.9927166 , 108.37619302, 127.33416795,\n",
       "        163.80325741, 119.22063809, 161.73499322, 111.61679278,\n",
       "        138.89065916,  87.31344724, 159.06162247, 146.98363562,\n",
       "        106.31207869, 121.61927236, 116.07405776, 147.93262379,\n",
       "        139.65742594, 148.90530203, 140.76269382, 164.91091602,\n",
       "        110.42784333,  89.44593352,  91.46888155,  90.05260447,\n",
       "         55.54423197, 125.7752075 , 158.09045689, 107.74017885,\n",
       "        117.30450813, 131.55346839,  92.43659699, 102.87560895,\n",
       "        125.92942635, 102.50788606, 159.27526202, 162.23843254,\n",
       "        168.36322837, 143.15404031, 127.2809145 , 145.51752136,\n",
       "        102.58093406, 109.45559656, 128.88643603,  44.79995474,\n",
       "        132.31417147, 132.27487677, 151.0175195 , 122.73801386,\n",
       "        134.07296501, 157.89675898, 182.58773301, 131.33331526,\n",
       "        113.4435019 ,  99.24324285, 173.62999089, 164.35488372,\n",
       "        114.99076935, 132.0186567 ,  90.03954984, 137.6817191 ,\n",
       "        163.33034645, 164.46348746, 120.36788506, 139.48887904,\n",
       "        202.76324461, 163.56471905, 146.22471782, 137.08912558,\n",
       "        152.35639527, 131.97969629, 107.5861496 , 122.86363237,\n",
       "         95.6942147 , 162.75212203, 154.45569046,  80.58134742,\n",
       "        153.99587095, 103.52259858, 118.55402669,  97.0944451 ,\n",
       "        147.73997157,  96.34837693, 131.4635929 ,  99.52427267,\n",
       "        152.74946239, 146.98828896, 133.17849918, 113.9223362 ,\n",
       "         67.06234147, 151.37537196, 158.88608773,  99.81838742,\n",
       "        102.53495199, 179.43058054, 156.1279338 ,  70.28588647,\n",
       "        162.31075602, 177.28797499, 131.86421069, 151.61271793,\n",
       "        118.55678898, 157.74909312, 188.62893634, 116.56988201,\n",
       "         94.78172262, 166.0268017 , 143.96524279, 165.82375639,\n",
       "        120.62592115, 102.60543598, 108.73773022, 130.32780685,\n",
       "         98.52612578, 118.12333836, 136.40813157, 178.69820179,\n",
       "        147.28528642, 165.13389396, 136.00531561,  72.54461792,\n",
       "        146.03705757, 118.69467692, 145.05957989, 176.96144681,\n",
       "         98.85031401, 161.87761205, 129.78343135, 117.00815272,\n",
       "        148.62011773, 118.54403321, 128.85268676,  85.67727331,\n",
       "         99.54065498, 125.29127863, 134.52895734,  99.67762922,\n",
       "        116.7789253 ,  91.57508953, 109.68028973, 123.70779543,\n",
       "        126.44275567, 158.21313307, 172.41724971, 113.51609966,\n",
       "        163.03175428, 151.55246028, 125.31601965, 146.1429308 ,\n",
       "        140.48368246, 100.61957943, 160.52375112, 138.51903872,\n",
       "        176.4016747 ,  86.52561641,  97.45274252, 121.02360738,\n",
       "        144.78959049, 138.18688379, 152.45142566,  98.52524408,\n",
       "        100.18438486,  98.87118514, 169.28615257, 153.86706984,\n",
       "        151.07773751, 149.93730568, 108.76179657, 186.85965272,\n",
       "        114.42031542,  70.27147822, 117.2169016 ,  38.00966974,\n",
       "        156.44964575,  75.65926034, 197.42650342, 136.540414  ,\n",
       "        139.1744147 , 218.4337428 ,  99.60355255, 157.11314216,\n",
       "        166.43065045, 117.54254764, 141.0857467 , 121.26442399,\n",
       "        176.066231  , 117.68449228, 143.67068711, 115.52256466,\n",
       "        151.60920608,  86.28393131, 103.89505902, 140.73086974,\n",
       "         72.10680445, 108.19397469, 125.54597444, 117.45231178,\n",
       "         89.36478921, 114.84515518, 163.79640805, 152.09470007,\n",
       "        170.15991901, 159.32921324, 128.87809051, 151.2261363 ,\n",
       "        133.24674599, 144.26580822, 150.35827317, 138.34753148,\n",
       "        116.96910174, 152.54233011, 143.49234608, 176.9859314 ,\n",
       "        146.64841026, 147.45234665,  62.12771023, 121.71452171,\n",
       "         61.85736553, 145.69113036, 122.69708751, 178.43351318,\n",
       "        167.13358366,  92.62414109, 203.27241408, 138.49168014,\n",
       "        148.69808926, 116.53329228, 115.11446843, 157.10690016,\n",
       "        160.74125014, 146.75773293,  95.7642522 , 122.96890694,\n",
       "        110.15216725, 140.85663424, 115.85090457, 141.24228523,\n",
       "        109.26426364, 134.71055878,  72.79194482, 177.77743611,\n",
       "        116.96452289, 132.56561617, 123.90854138, 101.82931367,\n",
       "        153.23166769, 134.59669293, 131.55566529,  99.18558837,\n",
       "        124.30038043, 126.88925417, 120.31679401, 126.1473612 ,\n",
       "        124.88022681, 135.53833117, 110.1542731 ,  87.00416437,\n",
       "         92.70225968, 113.56713163, 105.09879309,  76.0340043 ,\n",
       "        148.32711576,  76.26367598, 115.5448717 ,  84.18492061,\n",
       "        130.49757656,  94.40020263, 147.7036199 , 108.4767541 ,\n",
       "        133.61850272, 103.7887228 ,  99.32659335, 143.20557615,\n",
       "        123.03438155, 128.10759117, 136.92051268, 137.1241429 ,\n",
       "        112.01056163, 118.37375251, 125.54107914,  99.20788953,\n",
       "         98.41030621, 115.75662913, 217.34941092, 114.24381064,\n",
       "        173.10557493, 157.16165035, 103.06105684,  81.76657884,\n",
       "        116.53319881, 178.27011342, 126.74515583,  72.47325779,\n",
       "        131.3090898 , 135.97386328, 123.88316121, 110.91213821,\n",
       "         98.85965104, 127.55550138, 175.18492971, 125.28567374,\n",
       "        135.17009709, 140.51837544, 122.94173231, 167.26217114,\n",
       "         87.50206304, 160.48535298, 146.52658033, 142.09274702,\n",
       "         96.38807454, 160.21416582, 122.43593643,  93.66774284,\n",
       "        159.34121339,  76.0192813 , 142.93669392, 148.33998042,\n",
       "        155.65453289, 158.1362047 , 158.70133549, 119.57022708,\n",
       "        126.97437188,  75.48651301, 108.56930252,  72.92420035,\n",
       "        110.55038823, 186.0952569 , 172.80877455, 137.61943143,\n",
       "         81.84187121, 117.19540851, 197.98320563, 131.72249974,\n",
       "        106.27154916, 180.3567606 , 145.38491815, 130.63847985,\n",
       "        167.47249848, 180.00085721, 152.58039371, 149.56394956,\n",
       "        103.83490433, 148.377392  , 123.95601011, 111.28693397,\n",
       "        138.25657954, 128.26362129, 181.48982738, 168.04889731,\n",
       "        128.69613232, 102.4536151 , 172.04416293, 166.33785075,\n",
       "        112.50035509, 130.18132171, 159.59561354,  62.85017036,\n",
       "        120.16690026, 132.3750026 ,  99.90651567, 128.67407604,\n",
       "        146.89867537, 116.85361082, 109.34556923, 125.32517989,\n",
       "        133.3770183 , 111.1455279 , 174.13084686, 111.07960225,\n",
       "        136.18959203, 119.48164635, 139.71629318, 114.89796153,\n",
       "        190.50840477, 175.86078211, 112.6258727 , 115.62523152,\n",
       "        128.71446385, 139.06948379, 148.05165724,  89.76734565,\n",
       "        196.80134659, 108.77622584, 119.99144323, 149.09594403,\n",
       "        133.19879989,  87.53097764,  91.29144867, 105.63813167]),\n",
       " 3.2029390199750565,\n",
       " (2.874085811192526, 3.5351386564313825))"
      ]
     },
     "execution_count": 175,
     "metadata": {},
     "output_type": "execute_result"
    },
    {
     "data": {
      "image/png": "[encoded data removed]",
      "text/plain": [
       "<Figure size 432x288 with 1 Axes>"
      ]
     },
     "metadata": {
      "needs_background": "light"
     },
     "output_type": "display_data"
    }
   ],
   "source": [
    "from scipy import stats\n",
    "import matplotlib.pyplot as plt\n",
    "fig = plt.figure()\n",
    "ax1 = fig.add_subplot(211)\n",
    "x = stats.loggamma.rvs(5, size=500) + 5\n",
    "\n",
    "\n",
    "stats.boxcox(x, lmbda=None, alpha=0.5)"
   ]
  },
  {
   "cell_type": "code",
   "execution_count": 141,
   "metadata": {},
   "outputs": [
    {
     "data": {
      "text/plain": [
       "((array([-2.99209858e+00, -2.71015927e+00, -2.55162541e+00, -2.43921385e+00,\n",
       "         -2.35113311e+00, -2.27822091e+00, -2.21572267e+00, -2.16084152e+00,\n",
       "         -2.11178767e+00, -2.06734403e+00, -2.02664403e+00, -1.98904794e+00,\n",
       "         -1.95406954e+00, -1.92133033e+00, -1.89052965e+00, -1.86142459e+00,\n",
       "         -1.83381593e+00, -1.80753820e+00, -1.78245240e+00, -1.75844061e+00,\n",
       "         -1.73540186e+00, -1.71324904e+00, -1.69190643e+00, -1.67130780e+00,\n",
       "         -1.65139483e+00, -1.63211595e+00, -1.61342528e+00, -1.59528183e+00,\n",
       "         -1.57764883e+00, -1.56049314e+00, -1.54378481e+00, -1.52749667e+00,\n",
       "         -1.51160399e+00, -1.49608418e+00, -1.48091659e+00, -1.46608224e+00,\n",
       "         -1.45156367e+00, -1.43734479e+00, -1.42341071e+00, -1.40974764e+00,\n",
       "         -1.39634279e+00, -1.38318426e+00, -1.37026095e+00, -1.35756253e+00,\n",
       "         -1.34507932e+00, -1.33280226e+00, -1.32072287e+00, -1.30883317e+00,\n",
       "         -1.29712567e+00, -1.28559331e+00, -1.27422944e+00, -1.26302778e+00,\n",
       "         -1.25198239e+00, -1.24108768e+00, -1.23033831e+00, -1.21972926e+00,\n",
       "         -1.20925574e+00, -1.19891322e+00, -1.18869738e+00, -1.17860411e+00,\n",
       "         -1.16862950e+00, -1.15876983e+00, -1.14902154e+00, -1.13938123e+00,\n",
       "         -1.12984566e+00, -1.12041173e+00, -1.11107648e+00, -1.10183707e+00,\n",
       "         -1.09269077e+00, -1.08363498e+00, -1.07466719e+00, -1.06578501e+00,\n",
       "         -1.05698612e+00, -1.04826831e+00, -1.03962946e+00, -1.03106750e+00,\n",
       "         -1.02258046e+00, -1.01416645e+00, -1.00582364e+00, -9.97550247e-01,\n",
       "         -9.89344581e-01, -9.81204996e-01, -9.73129904e-01, -9.65117774e-01,\n",
       "         -9.57167125e-01, -9.49276525e-01, -9.41444591e-01, -9.33669982e-01,\n",
       "         -9.25951403e-01, -9.18287599e-01, -9.10677353e-01, -9.03119487e-01,\n",
       "         -8.95612861e-01, -8.88156365e-01, -8.80748927e-01, -8.73389502e-01,\n",
       "         -8.66077081e-01, -8.58810678e-01, -8.51589342e-01, -8.44412143e-01,\n",
       "         -8.37278180e-01, -8.30186576e-01, -8.23136480e-01, -8.16127061e-01,\n",
       "         -8.09157513e-01, -8.02227049e-01, -7.95334905e-01, -7.88480336e-01,\n",
       "         -7.81662614e-01, -7.74881033e-01, -7.68134903e-01, -7.61423551e-01,\n",
       "         -7.54746322e-01, -7.48102575e-01, -7.41491685e-01, -7.34913044e-01,\n",
       "         -7.28366057e-01, -7.21850142e-01, -7.15364731e-01, -7.08909270e-01,\n",
       "         -7.02483218e-01, -6.96086043e-01, -6.89717230e-01, -6.83376271e-01,\n",
       "         -6.77062670e-01, -6.70775943e-01, -6.64515617e-01, -6.58281226e-01,\n",
       "         -6.52072317e-01, -6.45888445e-01, -6.39729174e-01, -6.33594076e-01,\n",
       "         -6.27482735e-01, -6.21394740e-01, -6.15329690e-01, -6.09287191e-01,\n",
       "         -6.03266856e-01, -5.97268307e-01, -5.91291174e-01, -5.85335090e-01,\n",
       "         -5.79399700e-01, -5.73484651e-01, -5.67589599e-01, -5.61714207e-01,\n",
       "         -5.55858142e-01, -5.50021077e-01, -5.44202692e-01, -5.38402673e-01,\n",
       "         -5.32620709e-01, -5.26856497e-01, -5.21109737e-01, -5.15380136e-01,\n",
       "         -5.09667405e-01, -5.03971258e-01, -4.98291417e-01, -4.92627606e-01,\n",
       "         -4.86979553e-01, -4.81346993e-01, -4.75729663e-01, -4.70127305e-01,\n",
       "         -4.64539663e-01, -4.58966488e-01, -4.53407532e-01, -4.47862553e-01,\n",
       "         -4.42331309e-01, -4.36813566e-01, -4.31309089e-01, -4.25817651e-01,\n",
       "         -4.20339023e-01, -4.14872983e-01, -4.09419311e-01, -4.03977788e-01,\n",
       "         -3.98548202e-01, -3.93130339e-01, -3.87723992e-01, -3.82328953e-01,\n",
       "         -3.76945020e-01, -3.71571992e-01, -3.66209669e-01, -3.60857856e-01,\n",
       "         -3.55516359e-01, -3.50184986e-01, -3.44863547e-01, -3.39551857e-01,\n",
       "         -3.34249730e-01, -3.28956983e-01, -3.23673435e-01, -3.18398908e-01,\n",
       "         -3.13133223e-01, -3.07876207e-01, -3.02627686e-01, -2.97387487e-01,\n",
       "         -2.92155443e-01, -2.86931384e-01, -2.81715143e-01, -2.76506557e-01,\n",
       "         -2.71305462e-01, -2.66111695e-01, -2.60925097e-01, -2.55745509e-01,\n",
       "         -2.50572773e-01, -2.45406732e-01, -2.40247233e-01, -2.35094122e-01,\n",
       "         -2.29947246e-01, -2.24806454e-01, -2.19671596e-01, -2.14542524e-01,\n",
       "         -2.09419090e-01, -2.04301147e-01, -1.99188550e-01, -1.94081154e-01,\n",
       "         -1.88978816e-01, -1.83881393e-01, -1.78788743e-01, -1.73700727e-01,\n",
       "         -1.68617203e-01, -1.63538032e-01, -1.58463078e-01, -1.53392201e-01,\n",
       "         -1.48325265e-01, -1.43262135e-01, -1.38202675e-01, -1.33146749e-01,\n",
       "         -1.28094226e-01, -1.23044970e-01, -1.17998849e-01, -1.12955731e-01,\n",
       "         -1.07915484e-01, -1.02877978e-01, -9.78430801e-02, -9.28106619e-02,\n",
       "         -8.77805930e-02, -8.27527442e-02, -7.77269864e-02, -7.27031911e-02,\n",
       "         -6.76812301e-02, -6.26609755e-02, -5.76422995e-02, -5.26250751e-02,\n",
       "         -4.76091750e-02, -4.25944724e-02, -3.75808407e-02, -3.25681535e-02,\n",
       "         -2.75562846e-02, -2.25451077e-02, -1.75344969e-02, -1.25243263e-02,\n",
       "         -7.51447003e-03, -2.50480239e-03,  2.50480239e-03,  7.51447003e-03,\n",
       "          1.25243263e-02,  1.75344969e-02,  2.25451077e-02,  2.75562846e-02,\n",
       "          3.25681535e-02,  3.75808407e-02,  4.25944724e-02,  4.76091750e-02,\n",
       "          5.26250751e-02,  5.76422995e-02,  6.26609755e-02,  6.76812301e-02,\n",
       "          7.27031911e-02,  7.77269864e-02,  8.27527442e-02,  8.77805930e-02,\n",
       "          9.28106619e-02,  9.78430801e-02,  1.02877978e-01,  1.07915484e-01,\n",
       "          1.12955731e-01,  1.17998849e-01,  1.23044970e-01,  1.28094226e-01,\n",
       "          1.33146749e-01,  1.38202675e-01,  1.43262135e-01,  1.48325265e-01,\n",
       "          1.53392201e-01,  1.58463078e-01,  1.63538032e-01,  1.68617203e-01,\n",
       "          1.73700727e-01,  1.78788743e-01,  1.83881393e-01,  1.88978816e-01,\n",
       "          1.94081154e-01,  1.99188550e-01,  2.04301147e-01,  2.09419090e-01,\n",
       "          2.14542524e-01,  2.19671596e-01,  2.24806454e-01,  2.29947246e-01,\n",
       "          2.35094122e-01,  2.40247233e-01,  2.45406732e-01,  2.50572773e-01,\n",
       "          2.55745509e-01,  2.60925097e-01,  2.66111695e-01,  2.71305462e-01,\n",
       "          2.76506557e-01,  2.81715143e-01,  2.86931384e-01,  2.92155443e-01,\n",
       "          2.97387487e-01,  3.02627686e-01,  3.07876207e-01,  3.13133223e-01,\n",
       "          3.18398908e-01,  3.23673435e-01,  3.28956983e-01,  3.34249730e-01,\n",
       "          3.39551857e-01,  3.44863547e-01,  3.50184986e-01,  3.55516359e-01,\n",
       "          3.60857856e-01,  3.66209669e-01,  3.71571992e-01,  3.76945020e-01,\n",
       "          3.82328953e-01,  3.87723992e-01,  3.93130339e-01,  3.98548202e-01,\n",
       "          4.03977788e-01,  4.09419311e-01,  4.14872983e-01,  4.20339023e-01,\n",
       "          4.25817651e-01,  4.31309089e-01,  4.36813566e-01,  4.42331309e-01,\n",
       "          4.47862553e-01,  4.53407532e-01,  4.58966488e-01,  4.64539663e-01,\n",
       "          4.70127305e-01,  4.75729663e-01,  4.81346993e-01,  4.86979553e-01,\n",
       "          4.92627606e-01,  4.98291417e-01,  5.03971258e-01,  5.09667405e-01,\n",
       "          5.15380136e-01,  5.21109737e-01,  5.26856497e-01,  5.32620709e-01,\n",
       "          5.38402673e-01,  5.44202692e-01,  5.50021077e-01,  5.55858142e-01,\n",
       "          5.61714207e-01,  5.67589599e-01,  5.73484651e-01,  5.79399700e-01,\n",
       "          5.85335090e-01,  5.91291174e-01,  5.97268307e-01,  6.03266856e-01,\n",
       "          6.09287191e-01,  6.15329690e-01,  6.21394740e-01,  6.27482735e-01,\n",
       "          6.33594076e-01,  6.39729174e-01,  6.45888445e-01,  6.52072317e-01,\n",
       "          6.58281226e-01,  6.64515617e-01,  6.70775943e-01,  6.77062670e-01,\n",
       "          6.83376271e-01,  6.89717230e-01,  6.96086043e-01,  7.02483218e-01,\n",
       "          7.08909270e-01,  7.15364731e-01,  7.21850142e-01,  7.28366057e-01,\n",
       "          7.34913044e-01,  7.41491685e-01,  7.48102575e-01,  7.54746322e-01,\n",
       "          7.61423551e-01,  7.68134903e-01,  7.74881033e-01,  7.81662614e-01,\n",
       "          7.88480336e-01,  7.95334905e-01,  8.02227049e-01,  8.09157513e-01,\n",
       "          8.16127061e-01,  8.23136480e-01,  8.30186576e-01,  8.37278180e-01,\n",
       "          8.44412143e-01,  8.51589342e-01,  8.58810678e-01,  8.66077081e-01,\n",
       "          8.73389502e-01,  8.80748927e-01,  8.88156365e-01,  8.95612861e-01,\n",
       "          9.03119487e-01,  9.10677353e-01,  9.18287599e-01,  9.25951403e-01,\n",
       "          9.33669982e-01,  9.41444591e-01,  9.49276525e-01,  9.57167125e-01,\n",
       "          9.65117774e-01,  9.73129904e-01,  9.81204996e-01,  9.89344581e-01,\n",
       "          9.97550247e-01,  1.00582364e+00,  1.01416645e+00,  1.02258046e+00,\n",
       "          1.03106750e+00,  1.03962946e+00,  1.04826831e+00,  1.05698612e+00,\n",
       "          1.06578501e+00,  1.07466719e+00,  1.08363498e+00,  1.09269077e+00,\n",
       "          1.10183707e+00,  1.11107648e+00,  1.12041173e+00,  1.12984566e+00,\n",
       "          1.13938123e+00,  1.14902154e+00,  1.15876983e+00,  1.16862950e+00,\n",
       "          1.17860411e+00,  1.18869738e+00,  1.19891322e+00,  1.20925574e+00,\n",
       "          1.21972926e+00,  1.23033831e+00,  1.24108768e+00,  1.25198239e+00,\n",
       "          1.26302778e+00,  1.27422944e+00,  1.28559331e+00,  1.29712567e+00,\n",
       "          1.30883317e+00,  1.32072287e+00,  1.33280226e+00,  1.34507932e+00,\n",
       "          1.35756253e+00,  1.37026095e+00,  1.38318426e+00,  1.39634279e+00,\n",
       "          1.40974764e+00,  1.42341071e+00,  1.43734479e+00,  1.45156367e+00,\n",
       "          1.46608224e+00,  1.48091659e+00,  1.49608418e+00,  1.51160399e+00,\n",
       "          1.52749667e+00,  1.54378481e+00,  1.56049314e+00,  1.57764883e+00,\n",
       "          1.59528183e+00,  1.61342528e+00,  1.63211595e+00,  1.65139483e+00,\n",
       "          1.67130780e+00,  1.69190643e+00,  1.71324904e+00,  1.73540186e+00,\n",
       "          1.75844061e+00,  1.78245240e+00,  1.80753820e+00,  1.83381593e+00,\n",
       "          1.86142459e+00,  1.89052965e+00,  1.92133033e+00,  1.95406954e+00,\n",
       "          1.98904794e+00,  2.02664403e+00,  2.06734403e+00,  2.11178767e+00,\n",
       "          2.16084152e+00,  2.21572267e+00,  2.27822091e+00,  2.35113311e+00,\n",
       "          2.43921385e+00,  2.55162541e+00,  2.71015927e+00,  2.99209858e+00]),\n",
       "  array([3.57834785, 4.355297  , 4.77926834, 4.90928311, 4.97114734,\n",
       "         5.11586151, 5.12504265, 5.17372517, 5.20093815, 5.25073133,\n",
       "         5.29281933, 5.30904696, 5.32015176, 5.33061021, 5.35085516,\n",
       "         5.41925104, 5.49504042, 5.53043871, 5.5318392 , 5.55038101,\n",
       "         5.60074033, 5.62953414, 5.64903799, 5.68254064, 5.69310939,\n",
       "         5.7020149 , 5.73614664, 5.74430628, 5.74503505, 5.7553125 ,\n",
       "         5.76990831, 5.77276571, 5.77280176, 5.77368004, 5.77934655,\n",
       "         5.7858641 , 5.78912494, 5.7973319 , 5.7994919 , 5.8284211 ,\n",
       "         5.83471129, 5.83910206, 5.8445916 , 5.85169816, 5.86239903,\n",
       "         5.86953305, 5.86970704, 5.87732704, 5.88726755, 5.88846594,\n",
       "         5.89196858, 5.90451423, 5.90503048, 5.90594766, 5.90800476,\n",
       "         5.90959392, 5.91520024, 5.91673442, 5.93213497, 5.93477417,\n",
       "         5.94737998, 5.95342227, 5.95663381, 5.95881024, 5.95912722,\n",
       "         5.96171753, 5.96396771, 5.9782469 , 5.97923637, 5.98650091,\n",
       "         5.99019763, 5.99090048, 5.99091824, 6.00559421, 6.00578873,\n",
       "         6.01235284, 6.01263687, 6.01449242, 6.01473488, 6.01899061,\n",
       "         6.02372422, 6.02437421, 6.02452507, 6.02469573, 6.02608229,\n",
       "         6.0271141 , 6.04055585, 6.04139689, 6.04788122, 6.04960193,\n",
       "         6.05433301, 6.0548465 , 6.05637893, 6.05794364, 6.06395639,\n",
       "         6.06477175, 6.06597466, 6.06768453, 6.06907364, 6.07274947,\n",
       "         6.07531156, 6.08491151, 6.0915613 , 6.09779063, 6.10025646,\n",
       "         6.1021157 , 6.11749331, 6.13057857, 6.13388439, 6.13762355,\n",
       "         6.14370228, 6.15616454, 6.15760081, 6.16331656, 6.16433145,\n",
       "         6.17217316, 6.1760412 , 6.17996258, 6.18118006, 6.18201128,\n",
       "         6.18206362, 6.1858664 , 6.18741059, 6.19755115, 6.19985103,\n",
       "         6.20263616, 6.20679167, 6.20807614, 6.21398689, 6.21784041,\n",
       "         6.21807326, 6.22034608, 6.22194172, 6.22648595, 6.2289407 ,\n",
       "         6.23113823, 6.23183173, 6.23427826, 6.23521558, 6.23559025,\n",
       "         6.23855554, 6.23986735, 6.24487917, 6.24535189, 6.24558464,\n",
       "         6.24854814, 6.25074702, 6.25342751, 6.25665374, 6.26031217,\n",
       "         6.26365262, 6.26396326, 6.26580429, 6.26691831, 6.2707725 ,\n",
       "         6.27126402, 6.27473518, 6.27964596, 6.27993519, 6.28106932,\n",
       "         6.28482576, 6.28703628, 6.28811649, 6.29631095, 6.29639994,\n",
       "         6.29780053, 6.29978598, 6.30144412, 6.30487897, 6.3097808 ,\n",
       "         6.31077499, 6.31545194, 6.31679576, 6.31821187, 6.31895533,\n",
       "         6.31916844, 6.32271235, 6.32905573, 6.33263385, 6.3377332 ,\n",
       "         6.33895552, 6.34155109, 6.3462118 , 6.347336  , 6.34739692,\n",
       "         6.34749295, 6.35007433, 6.35025028, 6.35113613, 6.35578855,\n",
       "         6.35871473, 6.36364584, 6.36544019, 6.36587749, 6.36594489,\n",
       "         6.36824693, 6.37160126, 6.37425412, 6.37540764, 6.3763183 ,\n",
       "         6.37671698, 6.38051619, 6.38314023, 6.38355965, 6.38478487,\n",
       "         6.39438072, 6.39515863, 6.39540457, 6.3977403 , 6.3985001 ,\n",
       "         6.40435336, 6.40951922, 6.41755452, 6.42006389, 6.42347707,\n",
       "         6.42657103, 6.42777749, 6.4335792 , 6.43397929, 6.43479369,\n",
       "         6.43632355, 6.43652703, 6.43832263, 6.43956906, 6.44165659,\n",
       "         6.44274139, 6.44348472, 6.44974188, 6.45023829, 6.45217876,\n",
       "         6.4555693 , 6.45782275, 6.45808353, 6.46387695, 6.46448475,\n",
       "         6.46491685, 6.46702178, 6.47041755, 6.4729207 , 6.4729667 ,\n",
       "         6.47329934, 6.47520358, 6.47563223, 6.47684246, 6.47684528,\n",
       "         6.47865538, 6.47906962, 6.48010007, 6.48310736, 6.48454232,\n",
       "         6.49117475, 6.49829195, 6.49845669, 6.5014509 , 6.5026229 ,\n",
       "         6.50280598, 6.50343096, 6.50415948, 6.50887026, 6.51056447,\n",
       "         6.51103292, 6.51410718, 6.51415104, 6.51457941, 6.51583248,\n",
       "         6.52971244, 6.53190245, 6.53352887, 6.53415412, 6.53483545,\n",
       "         6.53555571, 6.53728562, 6.54122591, 6.54318571, 6.54372446,\n",
       "         6.54513238, 6.54586152, 6.54872355, 6.54880255, 6.54916834,\n",
       "         6.55257657, 6.55377327, 6.55815642, 6.56036865, 6.5624138 ,\n",
       "         6.56429174, 6.56665391, 6.57433358, 6.57508563, 6.57795583,\n",
       "         6.58348745, 6.59516256, 6.59583209, 6.59747123, 6.60076075,\n",
       "         6.60095533, 6.60641025, 6.60838594, 6.61372057, 6.61510707,\n",
       "         6.61763477, 6.61848194, 6.62016306, 6.62112348, 6.62171581,\n",
       "         6.62354278, 6.62437183, 6.62747934, 6.63064041, 6.63296223,\n",
       "         6.63609434, 6.63643711, 6.63997024, 6.65351309, 6.65613438,\n",
       "         6.65682099, 6.65807432, 6.65847852, 6.66532027, 6.66981237,\n",
       "         6.66981596, 6.67014257, 6.67907435, 6.6865178 , 6.68679177,\n",
       "         6.68840082, 6.68865069, 6.68972087, 6.6942438 , 6.69958151,\n",
       "         6.70793196, 6.70834538, 6.71044499, 6.71298171, 6.71372193,\n",
       "         6.71648291, 6.72006879, 6.72204955, 6.72417132, 6.72727979,\n",
       "         6.73602959, 6.7379194 , 6.73856359, 6.73884487, 6.73915354,\n",
       "         6.739644  , 6.74464051, 6.7484402 , 6.75715743, 6.75803927,\n",
       "         6.75895125, 6.75983569, 6.76083912, 6.76628232, 6.76818282,\n",
       "         6.7714828 , 6.77158403, 6.772796  , 6.77351177, 6.77390235,\n",
       "         6.78090513, 6.78139704, 6.78591827, 6.79109413, 6.79510464,\n",
       "         6.79529391, 6.80302573, 6.80482604, 6.80594162, 6.8100151 ,\n",
       "         6.81444352, 6.8155761 , 6.81627772, 6.81789404, 6.82145404,\n",
       "         6.8216813 , 6.82180679, 6.82433732, 6.82737446, 6.82816614,\n",
       "         6.82962993, 6.8329514 , 6.83458479, 6.83927541, 6.83974852,\n",
       "         6.84143087, 6.84375686, 6.84690524, 6.84810046, 6.84898959,\n",
       "         6.85239442, 6.85475053, 6.87008368, 6.87051041, 6.87195175,\n",
       "         6.8729944 , 6.87787463, 6.90068461, 6.90521305, 6.90647375,\n",
       "         6.91036476, 6.91049644, 6.91078529, 6.91395174, 6.91447995,\n",
       "         6.91488998, 6.91752905, 6.921389  , 6.92168375, 6.9221016 ,\n",
       "         6.92365625, 6.92499256, 6.92531312, 6.92542225, 6.926445  ,\n",
       "         6.92826519, 6.93300776, 6.9377919 , 6.94089235, 6.94544372,\n",
       "         6.94866858, 6.95097785, 6.95226926, 6.95563205, 6.9568911 ,\n",
       "         6.96486171, 6.97454489, 6.98068436, 6.98656722, 6.99026376,\n",
       "         6.99203763, 6.9935102 , 6.99536951, 7.00329033, 7.00428231,\n",
       "         7.00973814, 7.01434289, 7.01825117, 7.02867195, 7.03631475,\n",
       "         7.04058415, 7.04277989, 7.04420509, 7.04951535, 7.05045261,\n",
       "         7.05171054, 7.05831583, 7.06457455, 7.07100187, 7.07210031,\n",
       "         7.07936447, 7.08232796, 7.08287663, 7.09099066, 7.09475648,\n",
       "         7.09871329, 7.10564816, 7.10878476, 7.10942635, 7.11971705,\n",
       "         7.12214704, 7.12312306, 7.12397146, 7.12442079, 7.12648944,\n",
       "         7.15370569, 7.16063045, 7.16136086, 7.16753451, 7.17243339,\n",
       "         7.18351986, 7.18459765, 7.20222477, 7.20375643, 7.21346403,\n",
       "         7.23712642, 7.23743963, 7.24517958, 7.26441751, 7.27400235,\n",
       "         7.276911  , 7.287837  , 7.29022927, 7.2921972 , 7.29400649,\n",
       "         7.3008789 , 7.34817214, 7.35796362, 7.38653909, 7.39963982,\n",
       "         7.41450178, 7.43378616, 7.43882307, 7.4463045 , 7.44964767,\n",
       "         7.46336201, 7.49762729, 7.50162068, 7.52735749, 7.6180443 ])),\n",
       " (0.49292632052627694, 6.474866898291035, 0.9818196665495408))"
      ]
     },
     "execution_count": 141,
     "metadata": {},
     "output_type": "execute_result"
    }
   ],
   "source": [
    "stats.probplot(x, fit=True)\n"
   ]
  },
  {
   "cell_type": "code",
   "execution_count": 143,
   "metadata": {},
   "outputs": [
    {
     "data": {
      "text/plain": [
       "array([1.24692303, 2.03705985, 1.39378896, 1.67322003, 2.09085523,\n",
       "       1.09416461, 1.63845663, 1.95144704, 1.02843492, 2.08926386,\n",
       "       1.28898582, 1.60251284, 1.94552519, 2.15202042, 1.17967767,\n",
       "       1.83706505, 2.31547872, 1.04017139, 1.63975559, 2.38808761,\n",
       "       2.41813146, 1.7634763 , 1.39675973, 2.35155055, 1.67569782,\n",
       "       0.90951156, 2.45562865, 1.76317033, 1.90591565, 1.51455367,\n",
       "       2.17184278, 2.46642242, 1.45704504, 2.11177656, 1.72891869,\n",
       "       1.16358857, 1.59921241, 2.01474694, 1.83264686, 2.45893154,\n",
       "       1.79481403, 1.78163061, 1.73716469, 1.6185224 , 1.86448871,\n",
       "       2.03182744, 2.32107331, 2.43437629, 1.48867727, 1.75646495,\n",
       "       1.72284652, 1.88930321, 2.33569555, 1.95593218, 1.28556795,\n",
       "       2.04882453, 2.14363407, 1.70359162, 2.25146809, 1.51568977,\n",
       "       1.71454393, 2.00976427, 1.55740922, 1.53861411, 1.53343671,\n",
       "       1.82959218, 1.95214436, 1.52344163, 1.75928597, 2.18855302,\n",
       "       1.35662186, 1.5135186 , 1.35024514, 1.30349488, 1.80066498,\n",
       "       2.22400911, 1.20990126, 1.53978025, 1.53247499, 1.71464564,\n",
       "       1.90224038, 2.33818837, 2.6200333 , 2.11101137, 1.7967391 ,\n",
       "       1.87257456, 1.02660922, 1.34696607, 2.19974801, 2.31103659,\n",
       "       1.90429075, 2.21030324, 2.11559517, 0.80150005, 0.76772134,\n",
       "       2.02800473, 1.41900491, 2.12870204, 1.81534721, 1.82560714,\n",
       "       1.32404628, 0.56887131, 1.38487099, 2.09746292, 1.85125449,\n",
       "       1.56647675, 1.97382164, 2.20867093, 0.99929112, 1.39668572,\n",
       "       1.61197768, 2.15714465, 2.18837358, 1.23097184, 1.46135652,\n",
       "       1.27334699, 2.64055991, 1.65631631, 1.65332099, 1.74951421,\n",
       "       1.15395683, 2.08290785, 2.03052503, 1.56517482, 1.65491635,\n",
       "       2.15933882, 1.878967  , 2.16064359, 0.9256567 , 1.55050972,\n",
       "       2.16470938, 1.76701648, 1.01750597, 2.02070177, 2.13638652,\n",
       "       2.58105679, 2.24108584, 2.60428745, 2.05087991, 2.04175584,\n",
       "       1.75733376, 1.40302651, 1.40070313, 0.87782049, 1.82728425,\n",
       "       2.22075954, 1.62883193, 2.07500496, 1.4244436 , 2.05624842,\n",
       "       1.83076522, 1.72085438, 2.31234131, 1.65357103, 1.70160794,\n",
       "       1.44952264, 1.79448365, 1.63966647, 2.39227176, 2.00908664,\n",
       "       1.61139032, 2.08873527, 2.31619778, 1.87939941, 1.29948063,\n",
       "       1.72882721, 1.68629722, 2.07617667, 2.54325703, 1.6340464 ,\n",
       "       1.72086632, 1.71530604, 2.27796693, 1.90801476, 2.09466518,\n",
       "       2.19622856, 1.65025956, 0.78431521, 2.03123204, 1.77669229,\n",
       "       1.98196969, 2.06012808, 2.51712114, 1.87324419, 1.97553568,\n",
       "       2.00994523, 2.37386389, 2.2171019 , 2.29076558, 1.95437698,\n",
       "       2.53973067, 1.70882084, 1.8586798 , 1.66937986, 1.12950305,\n",
       "       2.22561595, 1.2571576 , 0.60144435, 2.59100118, 2.47949855,\n",
       "       1.96599258, 2.10876403, 1.38570381, 2.04505284, 1.97249109,\n",
       "       1.73092897, 1.82325989, 2.36435527, 1.80214395, 2.52175176,\n",
       "       1.29659624, 2.08601007, 2.03528378, 1.9436091 , 2.27979055,\n",
       "       1.47636398, 2.00525252, 1.95338127, 1.74257868, 1.50856224,\n",
       "       2.27406206, 1.93234308, 1.68149488, 1.66223327, 1.31787574,\n",
       "       1.50759709, 1.81232274, 1.75185459, 1.61472728, 1.83551515,\n",
       "       1.59818091, 1.99631212, 2.51366409, 1.47770136, 1.19732724,\n",
       "       2.22831635, 2.04403787, 1.24053573, 2.15108863, 2.03489621,\n",
       "       1.96315793, 1.59915552, 1.75733199, 1.69530276, 2.07066515,\n",
       "       1.62855095, 2.64058058, 1.60385727, 1.48081359, 2.02481306,\n",
       "       1.36969371, 1.90523362, 1.2367764 , 2.33689058, 2.44665155,\n",
       "       1.5230941 , 1.38893044, 1.30746102, 2.10251816, 1.69828353,\n",
       "       1.99629028, 0.80832941, 1.25992141, 1.60745484, 2.45198562,\n",
       "       1.84303049, 2.49774344, 1.77241759, 2.39132654, 1.58858945,\n",
       "       2.65349521, 1.32090537, 1.6208996 , 1.22716519, 2.19210315,\n",
       "       1.51977453, 1.47655446, 1.51319396, 1.31543698, 2.1762385 ,\n",
       "       1.63784065, 2.2682878 , 2.33372039, 2.01922698, 1.63176401,\n",
       "       2.19593418, 2.0358489 , 2.24321911, 2.49031554, 2.25679675,\n",
       "       1.58545272, 2.16283099, 1.41309961, 1.19115046, 1.77722603,\n",
       "       2.57925563, 1.64982633, 2.51608463, 1.77649326, 1.44835046,\n",
       "       2.54344715, 1.52103234, 1.68681742, 1.29554377, 1.55458087,\n",
       "       1.519317  , 2.21501291, 1.44241237, 1.37403095, 2.0085502 ,\n",
       "       1.94680649, 0.90077422, 1.33712538, 2.21357828, 2.51787079,\n",
       "       1.78492084, 1.55677349, 0.71588089, 1.97184488, 1.01492043,\n",
       "       2.12162152, 1.72927516, 2.03783153, 1.50816073, 2.32162514,\n",
       "       1.80465628, 1.98161271, 1.52504272, 1.37517781, 1.77449065,\n",
       "       1.63413386, 1.85121078, 1.90498753, 2.33551292, 1.98719503,\n",
       "       2.45158018, 1.94373756, 1.5752394 , 2.19313662, 1.026428  ,\n",
       "       2.51303913, 1.08246762, 1.87063381, 1.35695701, 2.14928485,\n",
       "       2.4276315 , 1.89899865, 1.60533317, 1.7138401 , 2.34729525,\n",
       "       2.11428054, 1.84302289, 1.53135576, 2.20798667, 1.49322601,\n",
       "       1.62643549, 1.48241205, 2.44664608, 1.89095829, 1.03641808,\n",
       "       0.97471424, 1.55753857, 1.84313877, 1.93861388, 1.6953997 ,\n",
       "       1.72097278, 1.92881308, 1.93996512, 1.74804412, 1.86781658,\n",
       "       2.11629281, 2.5519247 , 1.91255805, 1.35475601, 1.8950886 ,\n",
       "       1.47274797, 1.53860916, 1.72209654, 1.80862891, 1.70350107,\n",
       "       1.98551683, 1.15877569, 2.13648589, 1.63016775, 1.98432328,\n",
       "       1.66880935, 2.43102303, 1.91494353, 1.08909717, 1.30662901,\n",
       "       1.5971397 , 1.73694125, 1.81685396, 1.53581138, 1.78497514,\n",
       "       1.97967236, 1.6942259 , 1.42144512, 2.04990385, 1.79609764,\n",
       "       2.26360423, 1.44854496, 1.92376351, 2.32805952, 1.33343526,\n",
       "       2.02808355, 1.92933884, 2.17387786, 1.84007571, 1.17622832,\n",
       "       1.97062873, 1.53765383, 1.85182579, 1.4595189 , 1.81490054,\n",
       "       1.3453589 , 1.65083965, 2.06065815, 1.79284065, 1.83073044,\n",
       "       1.82626796, 1.34077652, 1.45985587, 1.1679021 , 1.43835412,\n",
       "       1.47686152, 1.25285294, 2.17815567, 2.17459411, 1.83672036,\n",
       "       1.54994437, 1.59958448, 0.98963882, 1.84816628, 2.11353158,\n",
       "       2.02071954, 1.83136275, 2.10965834, 2.371058  , 2.10908199,\n",
       "       2.07735483, 1.61351389, 2.18501975, 2.60610811, 2.07491431,\n",
       "       1.81137204, 0.59970422, 2.15465627, 1.6511623 , 1.77501353,\n",
       "       2.26367528, 1.40748842, 1.53748437, 1.96879354, 1.27962773,\n",
       "       1.32937121, 2.29377342, 1.40175253, 2.24054944, 1.71882735,\n",
       "       1.71556018, 1.61991838, 1.51478468, 2.26030422, 2.00193079,\n",
       "       1.05618105, 1.81545401, 1.83757821, 1.75439831, 1.84528891,\n",
       "       1.68519623, 0.46906108, 1.81352469, 2.24608739, 1.42101165,\n",
       "       1.67516515, 2.35728795, 1.55746399, 1.76827062, 1.07182668,\n",
       "       1.8257348 , 1.78462452, 2.72249856, 2.07207398, 1.30942066,\n",
       "       2.42057461, 1.69547709, 1.73746   , 1.56465224, 1.5679951 ,\n",
       "       2.56231908, 2.10959213, 1.70013208, 1.67551018, 1.62750131,\n",
       "       1.32060041, 2.12209543, 1.81610174, 2.12219429, 1.73114939])"
      ]
     },
     "execution_count": 143,
     "metadata": {},
     "output_type": "execute_result"
    }
   ],
   "source": [
    "stats.loggamma.rvs(x)"
   ]
  },
  {
   "cell_type": "code",
   "execution_count": 145,
   "metadata": {},
   "outputs": [
    {
     "data": {
      "text/plain": [
       "<scipy.stats._distn_infrastructure.rv_frozen at 0x1ed0bcd0dc0>"
      ]
     },
     "execution_count": 145,
     "metadata": {},
     "output_type": "execute_result"
    }
   ],
   "source": [
    "stats.norm(x)"
   ]
  },
  {
   "cell_type": "markdown",
   "metadata": {
    "colab_type": "text",
    "id": "2X66iINLvAun"
   },
   "source": [
    "# 11. [BONUS] Calculate Mean Confidence Interval\n",
    "\n",
    "Check following methods:\n",
    "\n",
    "1. scipy.stats.sem\n",
    "2. scipy.stats.t.ppf"
   ]
  },
  {
   "cell_type": "code",
   "execution_count": 193,
   "metadata": {
    "colab": {
     "base_uri": "https://localhost:8080/",
     "height": 34
    },
    "colab_type": "code",
    "executionInfo": {
     "elapsed": 727,
     "status": "ok",
     "timestamp": 1552693467297,
     "user": {
      "displayName": "Ibrahim Faisal",
      "photoUrl": "",
      "userId": "02685917636347920688"
     },
     "user_tz": -660
    },
    "id": "RbRSVOnlmxUC",
    "outputId": "6cca7647-c0cb-4ba6-fc35-8596a2d40591"
   },
   "outputs": [
    {
     "name": "stdout",
     "output_type": "stream",
     "text": [
      "(0, 0, 0)\n"
     ]
    },
    {
     "ename": "ValueError",
     "evalue": "operands could not be broadcast together with shapes (2,1000) (21,) ",
     "output_type": "error",
     "traceback": [
      "\u001b[1;31m---------------------------------------------------------------------------\u001b[0m",
      "\u001b[1;31mValueError\u001b[0m                                Traceback (most recent call last)",
      "\u001b[1;32m<ipython-input-193-b52b7b2e2017>\u001b[0m in \u001b[0;36m<module>\u001b[1;34m\u001b[0m\n\u001b[0;32m     13\u001b[0m \u001b[1;33m\u001b[0m\u001b[0m\n\u001b[0;32m     14\u001b[0m \u001b[0mscipy\u001b[0m\u001b[1;33m.\u001b[0m\u001b[0mstats\u001b[0m\u001b[1;33m.\u001b[0m\u001b[0msem\u001b[0m\u001b[1;33m(\u001b[0m\u001b[0mdata\u001b[0m\u001b[1;33m,\u001b[0m \u001b[0maxis\u001b[0m\u001b[1;33m=\u001b[0m\u001b[1;36m0\u001b[0m\u001b[1;33m)\u001b[0m\u001b[1;33m\u001b[0m\u001b[1;33m\u001b[0m\u001b[0m\n\u001b[1;32m---> 15\u001b[1;33m \u001b[0mscipy\u001b[0m\u001b[1;33m.\u001b[0m\u001b[0mstats\u001b[0m\u001b[1;33m.\u001b[0m\u001b[0mt\u001b[0m\u001b[1;33m.\u001b[0m\u001b[0mppf\u001b[0m\u001b[1;33m(\u001b[0m\u001b[0mdata\u001b[0m\u001b[1;33m,\u001b[0m \u001b[0mstats\u001b[0m\u001b[1;33m.\u001b[0m\u001b[0mt\u001b[0m\u001b[1;33m.\u001b[0m\u001b[0mppf\u001b[0m\u001b[1;33m(\u001b[0m\u001b[0mdata\u001b[0m\u001b[1;33m,\u001b[0m \u001b[0mdf\u001b[0m\u001b[1;33m)\u001b[0m\u001b[1;33m,\u001b[0m \u001b[1;34m'r-'\u001b[0m\u001b[1;33m,\u001b[0m \u001b[0mlw\u001b[0m\u001b[1;33m=\u001b[0m\u001b[1;36m5\u001b[0m\u001b[1;33m,\u001b[0m \u001b[0malpha\u001b[0m\u001b[1;33m=\u001b[0m\u001b[1;36m0.6\u001b[0m\u001b[1;33m,\u001b[0m \u001b[0mlabel\u001b[0m\u001b[1;33m=\u001b[0m\u001b[1;34m't pdf'\u001b[0m\u001b[1;33m)\u001b[0m\u001b[1;33m\u001b[0m\u001b[1;33m\u001b[0m\u001b[0m\n\u001b[0m\u001b[0;32m     16\u001b[0m \u001b[1;33m\u001b[0m\u001b[0m\n",
      "\u001b[1;32m~\\anaconda3\\lib\\site-packages\\scipy\\stats\\_distn_infrastructure.py\u001b[0m in \u001b[0;36mppf\u001b[1;34m(self, q, *args, **kwds)\u001b[0m\n\u001b[0;32m   2016\u001b[0m         \u001b[0mcond0\u001b[0m \u001b[1;33m=\u001b[0m \u001b[0mself\u001b[0m\u001b[1;33m.\u001b[0m\u001b[0m_argcheck\u001b[0m\u001b[1;33m(\u001b[0m\u001b[1;33m*\u001b[0m\u001b[0margs\u001b[0m\u001b[1;33m)\u001b[0m \u001b[1;33m&\u001b[0m \u001b[1;33m(\u001b[0m\u001b[0mscale\u001b[0m \u001b[1;33m>\u001b[0m \u001b[1;36m0\u001b[0m\u001b[1;33m)\u001b[0m \u001b[1;33m&\u001b[0m \u001b[1;33m(\u001b[0m\u001b[0mloc\u001b[0m \u001b[1;33m==\u001b[0m \u001b[0mloc\u001b[0m\u001b[1;33m)\u001b[0m\u001b[1;33m\u001b[0m\u001b[1;33m\u001b[0m\u001b[0m\n\u001b[0;32m   2017\u001b[0m         \u001b[0mcond1\u001b[0m \u001b[1;33m=\u001b[0m \u001b[1;33m(\u001b[0m\u001b[1;36m0\u001b[0m \u001b[1;33m<\u001b[0m \u001b[0mq\u001b[0m\u001b[1;33m)\u001b[0m \u001b[1;33m&\u001b[0m \u001b[1;33m(\u001b[0m\u001b[0mq\u001b[0m \u001b[1;33m<\u001b[0m \u001b[1;36m1\u001b[0m\u001b[1;33m)\u001b[0m\u001b[1;33m\u001b[0m\u001b[1;33m\u001b[0m\u001b[0m\n\u001b[1;32m-> 2018\u001b[1;33m         \u001b[0mcond2\u001b[0m \u001b[1;33m=\u001b[0m \u001b[0mcond0\u001b[0m \u001b[1;33m&\u001b[0m \u001b[1;33m(\u001b[0m\u001b[0mq\u001b[0m \u001b[1;33m==\u001b[0m \u001b[1;36m0\u001b[0m\u001b[1;33m)\u001b[0m\u001b[1;33m\u001b[0m\u001b[1;33m\u001b[0m\u001b[0m\n\u001b[0m\u001b[0;32m   2019\u001b[0m         \u001b[0mcond3\u001b[0m \u001b[1;33m=\u001b[0m \u001b[0mcond0\u001b[0m \u001b[1;33m&\u001b[0m \u001b[1;33m(\u001b[0m\u001b[0mq\u001b[0m \u001b[1;33m==\u001b[0m \u001b[1;36m1\u001b[0m\u001b[1;33m)\u001b[0m\u001b[1;33m\u001b[0m\u001b[1;33m\u001b[0m\u001b[0m\n\u001b[0;32m   2020\u001b[0m         \u001b[0mcond\u001b[0m \u001b[1;33m=\u001b[0m \u001b[0mcond0\u001b[0m \u001b[1;33m&\u001b[0m \u001b[0mcond1\u001b[0m\u001b[1;33m\u001b[0m\u001b[1;33m\u001b[0m\u001b[0m\n",
      "\u001b[1;31mValueError\u001b[0m: operands could not be broadcast together with shapes (2,1000) (21,) "
     ]
    }
   ],
   "source": [
    "import numpy as np\n",
    "import scipy.stats\n",
    "\n",
    "\n",
    "def mean_confidence_interval(data, confidence=0.95):\n",
    "    # Calculate m, h\n",
    "    m, se = 0, 0\n",
    "    h = 0\n",
    "    return m, m-h, m+h\n",
    "\n",
    "data = [21,22,23,4,5,6,77,8,9,10,31,32,33,34,35,36,37,18,49,50,100]\n",
    "print(mean_confidence_interval(data))\n",
    "\n",
    "scipy.stats.sem(data, axis=0)\n",
    "scipy.stats.t.ppf(x, stats.t.ppf(x, data), 'r-', lw=5, alpha=0.6, label='t pdf')\n",
    "\n"
   ]
  },
  {
   "cell_type": "code",
   "execution_count": 192,
   "metadata": {},
   "outputs": [
    {
     "data": {
      "text/html": [
       "<div>\n",
       "<style scoped>\n",
       "    .dataframe tbody tr th:only-of-type {\n",
       "        vertical-align: middle;\n",
       "    }\n",
       "\n",
       "    .dataframe tbody tr th {\n",
       "        vertical-align: top;\n",
       "    }\n",
       "\n",
       "    .dataframe thead th {\n",
       "        text-align: right;\n",
       "    }\n",
       "</style>\n",
       "<table border=\"1\" class=\"dataframe\">\n",
       "  <thead>\n",
       "    <tr style=\"text-align: right;\">\n",
       "      <th></th>\n",
       "      <th>0</th>\n",
       "      <th>1</th>\n",
       "      <th>2</th>\n",
       "      <th>3</th>\n",
       "      <th>4</th>\n",
       "      <th>5</th>\n",
       "      <th>6</th>\n",
       "      <th>7</th>\n",
       "      <th>8</th>\n",
       "      <th>9</th>\n",
       "      <th>...</th>\n",
       "      <th>990</th>\n",
       "      <th>991</th>\n",
       "      <th>992</th>\n",
       "      <th>993</th>\n",
       "      <th>994</th>\n",
       "      <th>995</th>\n",
       "      <th>996</th>\n",
       "      <th>997</th>\n",
       "      <th>998</th>\n",
       "      <th>999</th>\n",
       "    </tr>\n",
       "  </thead>\n",
       "  <tbody>\n",
       "    <tr>\n",
       "      <th>0</th>\n",
       "      <td>37.000000</td>\n",
       "      <td>43.000000</td>\n",
       "      <td>12.000000</td>\n",
       "      <td>8.00000</td>\n",
       "      <td>9.000000</td>\n",
       "      <td>11.00000</td>\n",
       "      <td>5.000000</td>\n",
       "      <td>15.000000</td>\n",
       "      <td>0.0000</td>\n",
       "      <td>16.000000</td>\n",
       "      <td>...</td>\n",
       "      <td>8.000000</td>\n",
       "      <td>7.000000</td>\n",
       "      <td>48.000000</td>\n",
       "      <td>23.000000</td>\n",
       "      <td>13.000000</td>\n",
       "      <td>48.000000</td>\n",
       "      <td>0.000000</td>\n",
       "      <td>42.000000</td>\n",
       "      <td>39.000000</td>\n",
       "      <td>3.000000</td>\n",
       "    </tr>\n",
       "    <tr>\n",
       "      <th>1</th>\n",
       "      <td>20.919436</td>\n",
       "      <td>50.636805</td>\n",
       "      <td>26.189986</td>\n",
       "      <td>4.25673</td>\n",
       "      <td>4.766829</td>\n",
       "      <td>-1.41868</td>\n",
       "      <td>0.139741</td>\n",
       "      <td>12.685958</td>\n",
       "      <td>-2.4644</td>\n",
       "      <td>23.679667</td>\n",
       "      <td>...</td>\n",
       "      <td>4.516551</td>\n",
       "      <td>4.407232</td>\n",
       "      <td>46.667483</td>\n",
       "      <td>23.850909</td>\n",
       "      <td>24.779946</td>\n",
       "      <td>45.979993</td>\n",
       "      <td>-9.293986</td>\n",
       "      <td>65.398294</td>\n",
       "      <td>66.155892</td>\n",
       "      <td>7.649289</td>\n",
       "    </tr>\n",
       "  </tbody>\n",
       "</table>\n",
       "<p>2 rows × 1000 columns</p>\n",
       "</div>"
      ],
      "text/plain": [
       "         0          1          2        3         4         5         6    \\\n",
       "0  37.000000  43.000000  12.000000  8.00000  9.000000  11.00000  5.000000   \n",
       "1  20.919436  50.636805  26.189986  4.25673  4.766829  -1.41868  0.139741   \n",
       "\n",
       "         7       8          9    ...       990       991        992  \\\n",
       "0  15.000000  0.0000  16.000000  ...  8.000000  7.000000  48.000000   \n",
       "1  12.685958 -2.4644  23.679667  ...  4.516551  4.407232  46.667483   \n",
       "\n",
       "         993        994        995       996        997        998       999  \n",
       "0  23.000000  13.000000  48.000000  0.000000  42.000000  39.000000  3.000000  \n",
       "1  23.850909  24.779946  45.979993 -9.293986  65.398294  66.155892  7.649289  \n",
       "\n",
       "[2 rows x 1000 columns]"
      ]
     },
     "execution_count": 192,
     "metadata": {},
     "output_type": "execute_result"
    }
   ],
   "source": [
    "x.shape\n",
    "len(data)\n",
    "df"
   ]
  },
  {
   "cell_type": "markdown",
   "metadata": {
    "colab_type": "text",
    "id": "6r9IVMcopfhs"
   },
   "source": [
    "\n",
    "\n",
    "---\n",
    "\n",
    "\n",
    "\n",
    "---\n",
    "\n",
    "\n",
    "\n",
    "> > > > > > > > > © 2019 Institute of Data\n",
    "\n",
    "\n",
    "---\n",
    "\n",
    "\n",
    "\n",
    "---\n",
    "\n",
    "\n",
    "\n"
   ]
  }
 ],
 "metadata": {
  "colab": {
   "collapsed_sections": [],
   "name": "Lab 1.1.4 Statistics - part 2 Lab.ipynb",
   "provenance": [
    {
     "file_id": "https://github.com/ikfaisal/dsia/blob/master/Statistics_part_2.ipynb",
     "timestamp": 1552461263669
    }
   ]
  },
  "kernelspec": {
   "display_name": "Python 3",
   "language": "python",
   "name": "python3"
  },
  "language_info": {
   "codemirror_mode": {
    "name": "ipython",
    "version": 3
   },
   "file_extension": ".py",
   "mimetype": "text/x-python",
   "name": "python",
   "nbconvert_exporter": "python",
   "pygments_lexer": "ipython3",
   "version": "3.8.3"
  }
 },
 "nbformat": 4,
 "nbformat_minor": 1
}
